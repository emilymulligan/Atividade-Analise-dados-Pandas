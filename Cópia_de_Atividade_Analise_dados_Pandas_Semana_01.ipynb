{
  "nbformat": 4,
  "nbformat_minor": 0,
  "metadata": {
    "colab": {
      "provenance": [],
      "include_colab_link": true
    },
    "kernelspec": {
      "name": "python3",
      "display_name": "Python 3"
    },
    "language_info": {
      "name": "python"
    }
  },
  "cells": [
    {
      "cell_type": "markdown",
      "metadata": {
        "id": "view-in-github",
        "colab_type": "text"
      },
      "source": [
        "<a href=\"https://colab.research.google.com/github/emilymulligan/Atividade-Analise-dados-Pandas/blob/main/C%C3%B3pia_de_Atividade_Analise_dados_Pandas_Semana_01.ipynb\" target=\"_parent\"><img src=\"https://colab.research.google.com/assets/colab-badge.svg\" alt=\"Open In Colab\"/></a>"
      ]
    },
    {
      "cell_type": "markdown",
      "source": [
        "![Growdev](https://www.growdev.com.br/assets/images/logo_growdev.png)"
      ],
      "metadata": {
        "id": "v8pFWwviib2C"
      }
    },
    {
      "cell_type": "markdown",
      "source": [
        "![Formação Engenharia de Dados](https://d335luupugsy2.cloudfront.net/cms/files/524558/1707226566/$occu5m8t1op)"
      ],
      "metadata": {
        "id": "6Tkl4_HxifXZ"
      }
    },
    {
      "cell_type": "markdown",
      "source": [
        "Este material tem como objetivo incentivar a prática dos conteúdos estudados até o momento, e a pesquisa. Tenha em consideração que o exercício foi pensado para incentivar a prática dos conteúdos estudados até então, porém aprender a pesquisar faz parte do processo de aprendizagem.\n",
        "\n",
        "Fique tranquilo, faça os exercícios com calma, e boa prática!\n"
      ],
      "metadata": {
        "id": "ty7Bzyl1i9bN"
      }
    },
    {
      "cell_type": "markdown",
      "source": [
        "#Orientações:\n",
        "\n",
        " - Faça uma copia deste arquivo\n",
        " - Após concluir os exercicios, suba seu exercicio para o GitHub e compartilhe o link no **google** Classroom\n"
      ],
      "metadata": {
        "id": "DU5-yCQwjx3V"
      }
    },
    {
      "cell_type": "markdown",
      "source": [
        "\n",
        "Utilize o dataset contido nesse [link](https://www.kaggle.com/datasets/upadorprofzs/testes), e responda as questões abaixo.\n",
        "\n",
        "O dataset contém dados estatísticos do IBGE relativos à escolaridade, renda entre outros campos avaliados pela  PNAD (Pesquisa Nacional por Amostra de Domicílios).\n",
        "\n",
        "Os dados podem representar informações relevantes e reveladoras sobre a distribuição de renda e possivelmente alguns indicadores sobre tais situações encontradas a partir dos dados."
      ],
      "metadata": {
        "id": "jPJ5hyxa2cos"
      }
    },
    {
      "cell_type": "markdown",
      "source": [
        "#Exercícios"
      ],
      "metadata": {
        "id": "EzT810tnlmfE"
      }
    },
    {
      "cell_type": "markdown",
      "source": [
        "Qual a quantidade de pessoas nas seguintes faixas etárias\n",
        "- 20 anos ou menos\n",
        "- 21 a 35 anos\n",
        "- 36 a 50 anos\n",
        "- 51 a 65 anos\n",
        "- maiores de 65 anos\n",
        "\n"
      ],
      "metadata": {
        "id": "sYEv1vohLu34"
      }
    },
    {
      "cell_type": "code",
      "source": [
        "import pandas as pd\n",
        "\n",
        "\n",
        "df_dados_pnad = pd.read_csv('/content/dados.csv')\n",
        "\n",
        "faixas_etarias = {\n",
        "    '20 anos ou menos': (0, 20),\n",
        "    '21 a 35 anos': (21, 35),\n",
        "    '36 a 50 anos': (36, 50),\n",
        "    '51 a 65 anos': (51, 65),\n",
        "    'maiores de 65 anos': (66, float('inf'))\n",
        "}\n",
        "\n",
        "def classificar_faixa_etaria(idade):\n",
        "    for faixa, intervalo in faixas_etarias.items():\n",
        "        if intervalo[0] <= idade <= intervalo[1]:\n",
        "            return faixa\n",
        "\n",
        "df_dados_pnad['Faixa Etária'] = df_dados_pnad['Idade'].apply(classificar_faixa_etaria)\n",
        "\n",
        "\n",
        "contagem_faixas = df_dados_pnad['Faixa Etária'].value_counts()\n",
        "\n",
        "print(contagem_faixas)\n",
        "\n"
      ],
      "metadata": {
        "id": "0drCl45SMELV",
        "colab": {
          "base_uri": "https://localhost:8080/"
        },
        "outputId": "87ecbfb5-1718-468b-b691-3d9f2f8efa45"
      },
      "execution_count": null,
      "outputs": [
        {
          "output_type": "stream",
          "name": "stdout",
          "text": [
            "Faixa Etária\n",
            "36 a 50 anos          31770\n",
            "21 a 35 anos          20654\n",
            "51 a 65 anos          20006\n",
            "maiores de 65 anos     3646\n",
            "20 anos ou menos        764\n",
            "Name: count, dtype: int64\n"
          ]
        }
      ]
    },
    {
      "cell_type": "markdown",
      "source": [
        "Qual é a média de escolaridade em cada faixa etária?\n"
      ],
      "metadata": {
        "id": "6y7X1dc-MFr1"
      }
    },
    {
      "cell_type": "code",
      "source": [
        "import pandas as pd\n",
        "\n",
        "df_dados_pnad = pd.read_csv('/content/dados.csv')\n",
        "\n",
        "\n",
        "faixas_etarias = {\n",
        "    '20 anos ou menos': (0, 20),\n",
        "    '21 a 35 anos': (21, 35),\n",
        "    '36 a 50 anos': (36, 50),\n",
        "    '51 a 65 anos': (51, 65),\n",
        "    'maiores de 65 anos': (66, float('inf'))\n",
        "}\n",
        "\n",
        "def classificar_faixa_etaria(idade):\n",
        "    for faixa, intervalo in faixas_etarias.items():\n",
        "        if intervalo[0] <= idade <= intervalo[1]:\n",
        "            return faixa\n",
        "\n",
        "df_dados_pnad['Faixa Etária'] = df_dados_pnad['Idade'].apply(classificar_faixa_etaria)\n",
        "\n",
        "\n",
        "media_escolaridade = df_dados_pnad.groupby('Faixa Etária')['Anos de Estudo'].mean()\n",
        "\n",
        "print(media_escolaridade)"
      ],
      "metadata": {
        "id": "6X6M5T7EMb-G",
        "colab": {
          "base_uri": "https://localhost:8080/"
        },
        "outputId": "09417fe4-4ba5-442a-8150-b9510104cb31"
      },
      "execution_count": null,
      "outputs": [
        {
          "output_type": "stream",
          "name": "stdout",
          "text": [
            "Faixa Etária\n",
            "20 anos ou menos       9.695026\n",
            "21 a 35 anos          10.813111\n",
            "36 a 50 anos           9.764274\n",
            "51 a 65 anos           8.267320\n",
            "maiores de 65 anos     5.842293\n",
            "Name: Anos de Estudo, dtype: float64\n"
          ]
        }
      ]
    },
    {
      "cell_type": "markdown",
      "source": [
        "Qual a UF que concentra a maior renda?\n"
      ],
      "metadata": {
        "id": "FgEq2x_mMicx"
      }
    },
    {
      "cell_type": "code",
      "source": [
        "import pandas as pd\n",
        "\n",
        "df_dados_pnad = pd.read_csv(\"/content/dados.csv\")\n",
        "\n",
        "df_dados_pnad['UF'] = df_dados_pnad['UF'].astype(str)\n",
        "\n",
        "df_dados_pnad['UF'] = df_dados_pnad['UF'].replace({ '11' :\t'Rondônia' , '12' : 'Acre', '13' :\t'Amazonas', '14' : 'Roraima', '15' :\t'Pará', '16' : 'Amapá', '17' : 'Tocantins'\n",
        ", '21' :'Maranhão', '22' : 'Piauí', '23' :\t'Ceará', '24' : 'Rio Grande do Norte', '25' : 'Paraíba', '26' : 'Pernambuco', '27' : 'Alagoas', '28' : 'Sergipe', '29' : 'Bahia',\n",
        "'31' :\t'Minas Gerais' ,  '32' : 'Espírito Santo' , '33' :  'Rio de Janeiro' ,  '35' :\t'São Paulo', '41' : 'Paraná', '42' : 'Santa Catarina', '43' : 'Rio Grande do Sul',\n",
        "'50' :\t'Mato Grosso do Sul' ,  '51' :\t'Mato Grosso' ,  '52' : 'Goiás' ,  '53' :\t'Distrito Federal'})\n",
        "\n",
        "uf_com_maior_renda = df_dados_pnad.groupby('UF')['Renda'].mean().idxmax()\n",
        "\n",
        "print('A UF com maior renda é:' , uf_com_maior_renda)\n",
        "\n"
      ],
      "metadata": {
        "id": "EFe-4pq8NGRf",
        "colab": {
          "base_uri": "https://localhost:8080/"
        },
        "outputId": "fb7ec281-f010-47df-9bd7-301f91655413"
      },
      "execution_count": null,
      "outputs": [
        {
          "output_type": "stream",
          "name": "stdout",
          "text": [
            "A UF com maior renda é: Distrito Federal\n"
          ]
        }
      ]
    },
    {
      "cell_type": "markdown",
      "source": [
        "Qual a renda média de pessoas pretas e brancas de homens e mulheres?\n"
      ],
      "metadata": {
        "id": "VFXayO6DNJ3F"
      }
    },
    {
      "cell_type": "code",
      "source": [
        "import pandas as pd\n",
        "\n",
        "df_dados_pnad = pd.read_csv('/content/dados.csv')\n",
        "\n",
        "df_dados_pnad['Cor'] = df_dados_pnad['Cor'].astype(str)\n",
        "\n",
        "df_dados_pnad['Cor'] = df_dados_pnad['Cor'].replace({'0' : 'Indígena', '2' : 'Branca', '4' : 'Preta', '6' : 'Amarela', '8' : 'Parda', '9' : 'Sem declaração' })\n",
        "\n",
        "df_dados_pnad['Sexo'] = df_dados_pnad['Sexo'].astype(str)\n",
        "\n",
        "df_dados_pnad['Sexo'] = df_dados_pnad['Sexo'].replace({'0' : 'Homens', '1' : 'Mulheres'})\n",
        "\n",
        "pessoas_brancas = df_dados_pnad[(df_dados_pnad['Cor'] == 'Branca')]\n",
        "\n",
        "pessoas_pretas = df_dados_pnad[(df_dados_pnad['Cor'] == 'Preta')]\n",
        "\n",
        "\n",
        "media_renda_pessoas_brancas = pessoas_brancas.groupby('Sexo')['Renda'].mean()\n",
        "\n",
        "print('A média salárial de pessoas brancas de homens e mulheres é:' , media_renda_pessoas_brancas)\n",
        "\n",
        "media_renda_pessoas_pretas = pessoas_pretas.groupby('Sexo')['Renda'].mean()\n",
        "\n",
        "print('A média salárial de pessoas pretas de homens e mulheres é:' , media_renda_pessoas_pretas)\n",
        "\n",
        "\n"
      ],
      "metadata": {
        "id": "JUO0B9kWNcCX",
        "colab": {
          "base_uri": "https://localhost:8080/"
        },
        "outputId": "62a8ee6e-e0f7-4441-b3ff-fb46f764dd9e"
      },
      "execution_count": null,
      "outputs": [
        {
          "output_type": "stream",
          "name": "stdout",
          "text": [
            "A média salárial de pessoas brancas de homens e mulheres é: Sexo\n",
            "Homens      2925.744435\n",
            "Mulheres    2109.866750\n",
            "Name: Renda, dtype: float64\n",
            "A média salárial de pessoas pretas de homens e mulheres é: Sexo\n",
            "Homens      1603.861687\n",
            "Mulheres    1134.596400\n",
            "Name: Renda, dtype: float64\n"
          ]
        }
      ]
    },
    {
      "cell_type": "markdown",
      "source": [
        "Qual a renda média concentrada em cada faixa etária?\n",
        "\n",
        "\n"
      ],
      "metadata": {
        "id": "aqaMxrGMNhQv"
      }
    },
    {
      "cell_type": "code",
      "source": [
        "import pandas as pd\n",
        "\n",
        "pd_dados_pnad = pd.read_csv('/content/dados.csv')\n",
        "\n",
        "df_dados_pnad['Faixa Etária'] = df_dados_pnad['Idade'].apply(classificar_faixa_etaria)\n",
        "\n",
        "media_renda_faixa_etaria = df_dados_pnad.groupby('Faixa Etária')['Renda'].mean()\n",
        "\n",
        "print(media_renda_faixa_etaria)\n"
      ],
      "metadata": {
        "id": "yoT1FXJSzKwj",
        "colab": {
          "base_uri": "https://localhost:8080/"
        },
        "outputId": "47631673-2efd-4e9a-e1fc-0872b633faa9"
      },
      "execution_count": null,
      "outputs": [
        {
          "output_type": "stream",
          "name": "stdout",
          "text": [
            "Faixa Etária\n",
            "20 anos ou menos       985.348168\n",
            "21 a 35 anos          1748.286143\n",
            "36 a 50 anos          2113.756091\n",
            "51 a 65 anos          2150.196741\n",
            "maiores de 65 anos    1831.231487\n",
            "Name: Renda, dtype: float64\n"
          ]
        }
      ]
    },
    {
      "cell_type": "markdown",
      "source": [
        "Qual a renda média nas faixas de anos de estudo abaixo?\n",
        "- 2 anos ou menos\n",
        "- 3 a 6 anos\n",
        "- 7 a 10 anos\n",
        "- 10 a 12 anos\n",
        "- 13 anos ou mais\n"
      ],
      "metadata": {
        "id": "jMjZzRxr29TF"
      }
    },
    {
      "cell_type": "code",
      "source": [
        "import pandas as pd\n",
        "\n",
        "df_dados_pnad = pd.read_csv('/content/dados.csv')\n",
        "\n",
        "df_dados_pnad['Anos de Estudo'] = df_dados_pnad['Anos de Estudo'].astype(str)\n",
        "\n",
        "df_dados_pnad['Anos de Estudo'] = df_dados_pnad['Anos de Estudo'].replace({'1' :\t'Sem instrução e menos de 1 ano', '2' :\t'1 ano', '3' : '2 anos' , '3' :'2 anos' ,\n",
        "'4' : '3 anos' , '5' : '4 anos' , '6' : '5 anos', '7' : '6 anos', '8' : '7 anos', '9' : '8 anos', '10' : '9 anos', '11' : '10 anos', '12' : '11 anos', '13' : '12 anos',\n",
        "'14' :\t'13 anos' , '15' : '14 anos' , '16' : '15 anos ou mais', '17' : 'Não determinados'})\n",
        "\n",
        "media_anos_de_estudo = df_dados_pnad.groupby('Anos de Estudo')['Renda'].mean()\n",
        "\n",
        "print(media_anos_de_estudo)\n",
        "\n"
      ],
      "metadata": {
        "id": "ZWpciLPN3Ckx",
        "colab": {
          "base_uri": "https://localhost:8080/"
        },
        "outputId": "78a88be8-a129-4338-a56b-66b4451c7c30"
      },
      "execution_count": 7,
      "outputs": [
        {
          "output_type": "stream",
          "name": "stdout",
          "text": [
            "Anos de Estudo\n",
            "1 ano                              806.524496\n",
            "10 anos                           1495.901322\n",
            "11 anos                           1841.671287\n",
            "12 anos                           2185.769063\n",
            "13 anos                           2758.774142\n",
            "14 anos                           3099.840058\n",
            "15 anos ou mais                   5242.443353\n",
            "2 anos                             842.560209\n",
            "3 anos                             980.044275\n",
            "4 anos                            1150.439293\n",
            "5 anos                            1183.575683\n",
            "6 anos                            1284.082618\n",
            "7 anos                            1289.166233\n",
            "8 anos                            1437.744862\n",
            "9 anos                            1315.685870\n",
            "Não determinados                  1071.717277\n",
            "Sem instrução e menos de 1 ano     732.994187\n",
            "Name: Renda, dtype: float64\n"
          ]
        }
      ]
    },
    {
      "cell_type": "markdown",
      "source": [
        "Qual a escolaridade entre indígenas, para homens e mulheres?\n"
      ],
      "metadata": {
        "id": "fDxIIqqS3DHs"
      }
    },
    {
      "cell_type": "code",
      "source": [
        "import pandas as pd\n",
        "\n",
        "df_dados_pnad = pd.read_csv('/content/dados.csv')\n",
        "\n",
        "df_dados_pnad['Cor'] = df_dados_pnad['Cor'].astype(str)\n",
        "\n",
        "df_dados_pnad['Cor'] = df_dados_pnad['Cor'].replace({'0' : 'Indígena', '2' : 'Branca', '4' : 'Preta', '6' : 'Amarela', '8' : 'Parda', '9' : 'Sem declaração' })\n",
        "\n",
        "df_dados_pnad['Sexo'] = df_dados_pnad['Sexo'].astype(str)\n",
        "\n",
        "df_dados_pnad['Sexo'] = df_dados_pnad['Sexo'].replace({'0' : 'Homens', '1' : 'Mulheres'})\n",
        "\n",
        "pessoas_indigenas = df_dados_pnad[(df_dados_pnad['Cor'] == 'Indígena')]\n",
        "\n",
        "media_escolaridade_indigenas = pessoas_indigenas.groupby('Sexo')['Anos de Estudo'].mean()\n",
        "\n",
        "print('A média de escolaridade de pessoas indígenas é:' , media_escolaridade_indigenas)\n"
      ],
      "metadata": {
        "id": "M85a5qNt3E2y",
        "colab": {
          "base_uri": "https://localhost:8080/"
        },
        "outputId": "558c7735-bf77-4639-94d6-f376a02ce63d"
      },
      "execution_count": null,
      "outputs": [
        {
          "output_type": "stream",
          "name": "stdout",
          "text": [
            "A média de escolaridade de pessoas indígenas é: Sexo\n",
            "Homens      7.875000\n",
            "Mulheres    9.108911\n",
            "Name: Anos de Estudo, dtype: float64\n"
          ]
        }
      ]
    },
    {
      "cell_type": "markdown",
      "source": [
        "Qual a média de anos de estudo entre brancos e negros?\n"
      ],
      "metadata": {
        "id": "hgqYfhU33FtF"
      }
    },
    {
      "cell_type": "code",
      "source": [
        "import pandas as pd\n",
        "\n",
        "df_dados_pnad = pd.read_csv('/content/dados.csv')\n",
        "\n",
        "df_dados_pnad['Cor'] = df_dados_pnad['Cor'].astype(str)\n",
        "\n",
        "df_dados_pnad['Cor'] = df_dados_pnad['Cor'].replace({'0' : 'Indígena', '2' : 'Branca', '4' : 'Preta', '6' : 'Amarela', '8' : 'Parda', '9' : 'Sem declaração' })\n",
        "\n",
        "escolaridade_brancos_pretos = df_dados_pnad[(df_dados_pnad['Cor'] == 'Branca') | (df_dados_pnad['Cor'] == 'Preta')]\n",
        "\n",
        "media_escolaridade_brancos_pretos = escolaridade_brancos_pretos['Anos de Estudo'].mean()\n",
        "\n",
        "print('A média de anos de estudo entre brancos e negros é:' , media_escolaridade_brancos_pretos)"
      ],
      "metadata": {
        "id": "EK9X8wTZ3UdS",
        "colab": {
          "base_uri": "https://localhost:8080/"
        },
        "outputId": "dc6121fa-1473-4f8e-d21a-171d469e5dea"
      },
      "execution_count": null,
      "outputs": [
        {
          "output_type": "stream",
          "name": "stdout",
          "text": [
            "A média de anos de estudo entre brancos e negros é: 10.150375565835946\n"
          ]
        }
      ]
    },
    {
      "cell_type": "markdown",
      "source": [
        "Qual a média de anos de estudo e de renda para mulheres brancas, e para mulheres negras?"
      ],
      "metadata": {
        "id": "_ZjroKKB3WBx"
      }
    },
    {
      "cell_type": "code",
      "source": [
        "import pandas as pd\n",
        "\n",
        "df_dados_pnad = pd.read_csv('/content/dados.csv')\n",
        "\n",
        "df_dados_pnad['Cor'] = df_dados_pnad['Cor'].astype(str)\n",
        "\n",
        "df_dados_pnad['Cor'] = df_dados_pnad['Cor'].replace({'0' : 'Indígena', '2' : 'Branca', '4' : 'Preta', '6' : 'Amarela', '8' : 'Parda', '9' : 'Sem declaração' })\n",
        "\n",
        "\n",
        "df_dados_pnad['Sexo'] = df_dados_pnad['Sexo'].astype(str)\n",
        "\n",
        "df_dados_pnad['Sexo'] = df_dados_pnad['Sexo'].replace({'0' : 'Homens', '1' : 'Mulheres'})\n",
        "\n",
        "mulheres_brancas = df_dados_pnad[(df_dados_pnad['Cor'] == 'Branca') & (df_dados_pnad['Sexo'] == 'Mulheres')]\n",
        "\n",
        "mulheres_negras = df_dados_pnad[(df_dados_pnad['Cor'] == 'Preta') & (df_dados_pnad['Sexo'] == 'Mulheres')]\n",
        "\n",
        "media_escolaridade_mulheres_brancas = mulheres_brancas['Anos de Estudo'].mean()\n",
        "\n",
        "media_escolaridade_mulheres_negras = mulheres_negras['Anos de Estudo'].mean()\n",
        "\n",
        "media_renda_mulheres_brancas = mulheres_brancas['Renda'].mean()\n",
        "\n",
        "media_renda_mulheres_negras = mulheres_negras['Renda'].mean()\n",
        "\n",
        "print('A média de anos de estudo para mulheres brancas é:' , media_escolaridade_mulheres_brancas)\n",
        "\n",
        "print('A média de anos de estudo para mulheres negras é:' , media_escolaridade_mulheres_negras)\n"
      ],
      "metadata": {
        "id": "7dx7zW7M3Wau",
        "colab": {
          "base_uri": "https://localhost:8080/"
        },
        "outputId": "6c8b36ba-c54a-4ee3-b75d-1ece53e715f3"
      },
      "execution_count": null,
      "outputs": [
        {
          "output_type": "stream",
          "name": "stdout",
          "text": [
            "A média de anos de estudo para mulheres brancas é: 11.297578214322835\n",
            "A média de anos de estudo para mulheres negras é: 9.522326064382138\n"
          ]
        }
      ]
    },
    {
      "cell_type": "markdown",
      "source": [
        " Qual é a UF com maior média de escolaridade e qual a UF com maior média de renda?"
      ],
      "metadata": {
        "id": "sG2Kkkrd3X5V"
      }
    },
    {
      "cell_type": "code",
      "source": [
        "import pandas as pd\n",
        "\n",
        "df_dados_pnad = pd.read_csv('/content/dados.csv')\n",
        "\n",
        "df_dados_pnad['UF'] = df_dados_pnad['UF'].astype(str)\n",
        "\n",
        "df_dados_pnad['UF'] = df_dados_pnad['UF'].replace({ '11' :\t'Rondônia' , '12' : 'Acre', '13' :\t'Amazonas', '14' : 'Roraima', '15' :\t'Pará', '16' : 'Amapá', '17' : 'Tocantins'\n",
        ", '21' :'Maranhão', '22' : 'Piauí', '23' :\t'Ceará', '24' : 'Rio Grande do Norte', '25' : 'Paraíba', '26' : 'Pernambuco', '27' : 'Alagoas', '28' : 'Sergipe', '29' : 'Bahia',\n",
        "'31' :\t'Minas Gerais' ,  '32' : 'Espírito Santo' , '33' :  'Rio de Janeiro' ,  '35' :\t'São Paulo', '41' : 'Paraná', '42' : 'Santa Catarina', '43' : 'Rio Grande do Sul',\n",
        "'50' :\t'Mato Grosso do Sul' ,  '51' :\t'Mato Grosso' ,  '52' : 'Goiás' ,  '53' :\t'Distrito Federal'})\n",
        "\n",
        "maior_escolaridade = df_dados_pnad.groupby('UF')['Anos de Estudo'].mean().idxmax()\n",
        "\n",
        "maior_renda = df_dados_pnad.groupby('UF')['Renda'].mean().idxmax()\n",
        "\n",
        "print('A UF com maior média de escolaridade é:' , maior_escolaridade)\n",
        "\n",
        "print('A UF com maior média de renda é:' , maior_renda)\n",
        "\n"
      ],
      "metadata": {
        "id": "imgwaOGk3YNq",
        "colab": {
          "base_uri": "https://localhost:8080/"
        },
        "outputId": "7fa5ccce-121e-4d9a-e06b-db877e13a0f7"
      },
      "execution_count": null,
      "outputs": [
        {
          "output_type": "stream",
          "name": "stdout",
          "text": [
            "A UF com maior média de escolaridade é: Distrito Federal\n",
            "A UF com maior média de renda é: Distrito Federal\n"
          ]
        }
      ]
    },
    {
      "cell_type": "markdown",
      "source": [
        "Elabore você uma pergunta sobre a base de dados e escreva o código para responder a pergunta."
      ],
      "metadata": {
        "id": "72Oy_JJ_3Z7F"
      }
    },
    {
      "cell_type": "markdown",
      "source": [
        "Qual a média de anos de estudo dos homens e das mulheres da pesquisa?"
      ],
      "metadata": {
        "id": "4Z4hqUQeaW6_"
      }
    },
    {
      "cell_type": "code",
      "source": [
        "import pandas as pd\n",
        "\n",
        "df_dados_pnad = pd.read_csv('/content/dados.csv')\n",
        "\n",
        "\n",
        "df_dados_pnad['Sexo'] = df_dados_pnad['Sexo'].astype(str)\n",
        "\n",
        "df_dados_pnad['Sexo'] = df_dados_pnad['Sexo'].replace({'0' : 'Homens', '1' : 'Mulheres'})\n",
        "\n",
        "\n",
        "media_anos_de_estudo = df_dados_pnad.groupby('Sexo')['Anos de Estudo'].mean()\n",
        "\n",
        "print('A média de anos de estudos dos homens das mulheres é:' , media_anos_de_estudo)\n",
        "\n",
        "\n"
      ],
      "metadata": {
        "id": "YZFVy7UM3aPC",
        "colab": {
          "base_uri": "https://localhost:8080/"
        },
        "outputId": "4a60d40e-c5fd-45cc-ad73-076e6a2f9e6d"
      },
      "execution_count": 14,
      "outputs": [
        {
          "output_type": "stream",
          "name": "stdout",
          "text": [
            "A média de anos de estudos dos homens das mulheres é: Sexo\n",
            "Homens       9.120169\n",
            "Mulheres    10.258584\n",
            "Name: Anos de Estudo, dtype: float64\n"
          ]
        }
      ]
    }
  ]
}